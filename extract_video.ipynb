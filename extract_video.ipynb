{
 "cells": [
  {
   "cell_type": "markdown",
   "id": "90363cc9",
   "metadata": {},
   "source": [
    "Using the yt_dlp library, we can download YouTube videos to gather our data.\n",
    "\n",
    "All that is required is the specific URL and ydl parameters.    "
   ]
  },
  {
   "cell_type": "code",
   "execution_count": null,
   "id": "3fc59911",
   "metadata": {},
   "outputs": [],
   "source": [
    "# Old links\n",
    "# 'ahri': 'https://www.youtube.com/watch?v=ZZ83v7Hqt7k&t',\n",
    "# 'ashe': 'https://www.youtube.com/watch?v=slzpjUWobb0&t',\n",
    "# 'garen': 'https://www.youtube.com/watch?v=nsta44pyXAQ&t',\n",
    "# 'jinx': 'https://www.youtube.com/watch?v=NkIBwX31Ego',\n",
    "# 'lulu': 'https://www.youtube.com/watch?v=rZqNBurL2G4&t',\n",
    "# 'vi': 'https://www.youtube.com/watch?v=UJTosSTLG-k'\n",
    "\n",
    "yt_urls = {\n",
    "    'ahri': 'https://www.youtube.com/watch?v=ZZ83v7Hqt7k&t',\n",
    "    'ashe': 'https://www.youtube.com/watch?v=slzpjUWobb0&t',\n",
    "    'garen': 'https://www.youtube.com/watch?v=nsta44pyXAQ&t',\n",
    "    'jinx': 'https://www.youtube.com/watch?v=NkIBwX31Ego',\n",
    "    'lulu': 'https://www.youtube.com/watch?v=rZqNBurL2G4&t',\n",
    "    'vi': 'https://www.youtube.com/watch?v=UJTosSTLG-k'\n",
    "}"
   ]
  },
  {
   "cell_type": "markdown",
   "id": "c0407a64",
   "metadata": {},
   "source": [
    "**Note-to-self:** When iterating through a dict using a for loop...\n",
    "1) Keys only\n",
    "```\n",
    "print(key) for key in my_dict \n",
    "```\n",
    "2) Values only\n",
    "```\n",
    "print(value) for value in my_dict.values()\n",
    "```\n",
    "3) Keys and Values\n",
    "```\n",
    "print(f'{key}: {value}') for key, value in my_dict.items()\n",
    "```\n"
   ]
  },
  {
   "cell_type": "code",
   "execution_count": null,
   "id": "eae5cccd",
   "metadata": {},
   "outputs": [],
   "source": [
    "import yt_dlp\n",
    "\n",
    "for champ, url in yt_urls.items():\n",
    "    ydl_opts = {\n",
    "        'format': 'bestvideo+bestaudio/best', # Video format code\n",
    "        'outtmpl': f'{champ}.mp4' # Dictionary of templates for output names\n",
    "    }\n",
    "\n",
    "    with yt_dlp.YoutubeDL(ydl_opts) as ydl:\n",
    "        ydl.download([url])"
   ]
  },
  {
   "cell_type": "code",
   "execution_count": 3,
   "id": "40692fdd",
   "metadata": {},
   "outputs": [
    {
     "ename": "KeyboardInterrupt",
     "evalue": "",
     "output_type": "error",
     "traceback": [
      "\u001b[0;31m---------------------------------------------------------------------------\u001b[0m",
      "\u001b[0;31mKeyboardInterrupt\u001b[0m                         Traceback (most recent call last)",
      "Cell \u001b[0;32mIn[3], line 17\u001b[0m\n\u001b[1;32m     14\u001b[0m screenshot_num \u001b[38;5;241m=\u001b[39m \u001b[38;5;241m0\u001b[39m\n\u001b[1;32m     16\u001b[0m \u001b[38;5;28;01mwhile\u001b[39;00m \u001b[38;5;28;01mTrue\u001b[39;00m:\n\u001b[0;32m---> 17\u001b[0m     ret, frame \u001b[38;5;241m=\u001b[39m \u001b[43mcap\u001b[49m\u001b[38;5;241;43m.\u001b[39;49m\u001b[43mread\u001b[49m\u001b[43m(\u001b[49m\u001b[43m)\u001b[49m\n\u001b[1;32m     18\u001b[0m     \u001b[38;5;28;01mif\u001b[39;00m \u001b[38;5;129;01mnot\u001b[39;00m ret:\n\u001b[1;32m     19\u001b[0m         \u001b[38;5;28;01mbreak\u001b[39;00m\n",
      "\u001b[0;31mKeyboardInterrupt\u001b[0m: "
     ]
    }
   ],
   "source": [
    "import cv2\n",
    "import os\n",
    "\n",
    "for champ in yt_urls:\n",
    "    video_path = f'extracted_videos/{champ}.mp4.webm'\n",
    "    output_path = f'data/champ/{champ}'\n",
    "    os.makedirs(output_path, exist_ok=True)\n",
    "\n",
    "    cap = cv2.VideoCapture(video_path)\n",
    "    fps = cap.get(cv2.CAP_PROP_FPS)\n",
    "    interval = int(fps * 20)  # 20 seconds\n",
    "\n",
    "    frame_count = 0\n",
    "    screenshot_num = 0\n",
    "\n",
    "    while True:\n",
    "        ret, frame = cap.read()\n",
    "        if not ret:\n",
    "            break\n",
    "        if frame_count % interval == 0:\n",
    "            filename = os.path.join(output_path, f'screenshot_{screenshot_num:03}.png')\n",
    "            cv2.imwrite(filename, frame)\n",
    "            screenshot_num += 1\n",
    "        frame_count += 1\n",
    "\n",
    "    cap.release()"
   ]
  }
 ],
 "metadata": {
  "kernelspec": {
   "display_name": "lolskills",
   "language": "python",
   "name": "python3"
  },
  "language_info": {
   "codemirror_mode": {
    "name": "ipython",
    "version": 3
   },
   "file_extension": ".py",
   "mimetype": "text/x-python",
   "name": "python",
   "nbconvert_exporter": "python",
   "pygments_lexer": "ipython3",
   "version": "3.10.18"
  }
 },
 "nbformat": 4,
 "nbformat_minor": 5
}
